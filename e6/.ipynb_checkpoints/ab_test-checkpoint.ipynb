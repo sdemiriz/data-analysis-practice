{
 "cells": [
  {
   "cell_type": "code",
   "execution_count": 1,
   "metadata": {},
   "outputs": [],
   "source": [
    "import scipy.stats as st\n",
    "import pandas as pd\n",
    "# import numpy as np\n",
    "import sys"
   ]
  },
  {
   "cell_type": "code",
   "execution_count": 18,
   "metadata": {},
   "outputs": [],
   "source": [
    "OUTPUT_TEMPLATE = (\n",
    "    '\"Did more/less users use the search feature?\" p-value: {more_users_p:.3g}\\n'\n",
    "    '\"Did users search more/less?\" p-value: {more_searches_p:.3g}\\n'\n",
    "    '\"Did more/less instructors use the search feature?\" p-value: {more_instr_p:.3g}\\n'\n",
    "    '\"Did instructors search more/less?\" p-value: {more_instr_searches_p:.3g}'\n",
    ")"
   ]
  },
  {
   "cell_type": "code",
   "execution_count": 19,
   "metadata": {},
   "outputs": [],
   "source": [
    "searchdata_file = 'searches.json'\n",
    "searchdata = pd.read_json(searchdata_file, orient='records', lines=True)\n",
    "#searchdata"
   ]
  },
  {
   "cell_type": "code",
   "execution_count": 20,
   "metadata": {},
   "outputs": [],
   "source": [
    "odds_all = searchdata[searchdata['uid'] % 2 == 1] #New search box\n",
    "evens_all = searchdata[searchdata['uid'] % 2 == 0] #Old search box"
   ]
  },
  {
   "cell_type": "code",
   "execution_count": 21,
   "metadata": {},
   "outputs": [],
   "source": [
    "oddsSearch_all = odds_all[odds_all['search_count'] > 0] # Used search\n",
    "oddsNoSearch_all = odds_all[odds_all['search_count'] == 0] # Unused search\n",
    "\n",
    "evensSearch_all = evens_all[evens_all['search_count'] > 0] # Used search\n",
    "evensNoSearch_all = evens_all[evens_all['search_count'] == 0] # Unused search"
   ]
  },
  {
   "cell_type": "code",
   "execution_count": 22,
   "metadata": {},
   "outputs": [],
   "source": [
    "table_all = [[oddsSearch_all['uid'].count(), oddsNoSearch_all['uid'].count()], \\\n",
    "         [evensSearch_all['uid'].count(), evensNoSearch_all['uid'].count()]]\n",
    "chi2_all, p_all, dof_all, expected_all = st.chi2_contingency(table_all)"
   ]
  },
  {
   "cell_type": "code",
   "execution_count": 32,
   "metadata": {},
   "outputs": [],
   "source": [
    "whitneyP_all = st.mannwhitneyu(odds_all['search_count'], evens_all['search_count']).pvalue"
   ]
  },
  {
   "cell_type": "code",
   "execution_count": 33,
   "metadata": {},
   "outputs": [
    {
     "data": {
      "text/plain": [
       "0.07059103623543486"
      ]
     },
     "execution_count": 33,
     "metadata": {},
     "output_type": "execute_result"
    }
   ],
   "source": [
    "whitneyP_all"
   ]
  },
  {
   "cell_type": "code",
   "execution_count": 25,
   "metadata": {},
   "outputs": [],
   "source": [
    "search_instr = searchdata[searchdata['is_instructor'] == True]"
   ]
  },
  {
   "cell_type": "code",
   "execution_count": 26,
   "metadata": {},
   "outputs": [],
   "source": [
    "odds_instr = search_instr[search_instr['uid'] % 2 == 1]\n",
    "evens_instr = search_instr[search_instr['uid'] % 2 == 0]"
   ]
  },
  {
   "cell_type": "code",
   "execution_count": 27,
   "metadata": {},
   "outputs": [],
   "source": [
    "oddsSearch_instr = odds_instr[odds_instr['search_count'] > 0] # Used search\n",
    "oddsNoSearch_instr = odds_instr[odds_instr['search_count'] == 0] # Unused search\n",
    "\n",
    "evensSearch_instr = evens_instr[evens_instr['search_count'] > 0] # Used search\n",
    "evensNoSearch_instr = evens_instr[evens_instr['search_count'] == 0] # Unused search"
   ]
  },
  {
   "cell_type": "code",
   "execution_count": 28,
   "metadata": {},
   "outputs": [],
   "source": [
    "table_instr = [[oddsSearch_instr['uid'].count(), oddsNoSearch_instr['uid'].count()], \\\n",
    "               [evensSearch_instr['uid'].count(), evensNoSearch_instr['uid'].count()]]\n",
    "chi2_instr, p_instr, dof_instr, expected_instr = st.chi2_contingency(table_instr)"
   ]
  },
  {
   "cell_type": "code",
   "execution_count": 34,
   "metadata": {},
   "outputs": [],
   "source": [
    "whitneyP_instr = st.mannwhitneyu(odds_instr['search_count'], evens_instr['search_count']).pvalue"
   ]
  },
  {
   "cell_type": "code",
   "execution_count": 35,
   "metadata": {},
   "outputs": [
    {
     "name": "stdout",
     "output_type": "stream",
     "text": [
      "\"Did more/less users use the search feature?\" p-value: 0.168\n",
      "\"Did users search more/less?\" p-value: 0.0706\n",
      "\"Did more/less instructors use the search feature?\" p-value: 0.052\n",
      "\"Did instructors search more/less?\" p-value: 0.0225\n"
     ]
    }
   ],
   "source": [
    "print(OUTPUT_TEMPLATE.format(\n",
    "        more_users_p = p_all,\n",
    "        more_searches_p = whitneyP_all,\n",
    "        more_instr_p = p_instr,\n",
    "        more_instr_searches_p = whitneyP_instr,\n",
    "    ))"
   ]
  },
  {
   "cell_type": "code",
   "execution_count": null,
   "metadata": {},
   "outputs": [],
   "source": []
  }
 ],
 "metadata": {
  "kernelspec": {
   "display_name": "Python 3",
   "language": "python",
   "name": "python3"
  },
  "language_info": {
   "codemirror_mode": {
    "name": "ipython",
    "version": 3
   },
   "file_extension": ".py",
   "mimetype": "text/x-python",
   "name": "python",
   "nbconvert_exporter": "python",
   "pygments_lexer": "ipython3",
   "version": "3.7.3"
  }
 },
 "nbformat": 4,
 "nbformat_minor": 2
}
