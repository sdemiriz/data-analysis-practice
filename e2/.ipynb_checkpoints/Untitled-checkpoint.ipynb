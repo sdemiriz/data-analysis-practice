{
 "cells": [
  {
   "cell_type": "code",
   "execution_count": 1,
   "metadata": {},
   "outputs": [],
   "source": [
    "import sys\n",
    "import pandas as pd\n",
    "import matplotlib.pyplot as plt"
   ]
  },
  {
   "cell_type": "code",
   "execution_count": 33,
   "metadata": {},
   "outputs": [],
   "source": [
    "filename1 = 'pagecounts-20190509-120000.txt'\n",
    "filename2 = 'pagecounts-20190509-130000.txt'\n",
    "file1 = pd.read_csv(filename1, sep=' ', header=None, index_col=1,\n",
    "        names=['lang', 'page', 'views', 'bytes']).drop(axis=1, labels=['lang', 'bytes'])\n",
    "file2 = pd.read_csv(filename2, sep=' ', header=None, index_col=1,\n",
    "        names=['lang', 'page', 'views', 'bytes']).drop(axis=1, labels=['lang', 'bytes'])\n",
    "file1_sorted = file1.sort_values(['views'], ascending=False)"
   ]
  },
  {
   "cell_type": "code",
   "execution_count": 51,
   "metadata": {},
   "outputs": [
    {
     "data": {
      "image/png": "[encoded data removed]",
      "text/plain": [
       "<Figure size 720x360 with 2 Axes>"
      ]
     },
     "metadata": {
      "needs_background": "light"
     },
     "output_type": "display_data"
    }
   ],
   "source": [
    "plt.figure(figsize=(10, 5)) # change the size to something sensible\n",
    "plt.subplot(1, 2, 1) # subplots in 1 row, 2 columns, select the first\n",
    "plt.plot(file1_sorted['views'].values) # build plot 1\n",
    "\n",
    "plt.title('')\n",
    "plt.xlabel()\n",
    "plt/ylabel()\n",
    "\n",
    "plt.subplot(1, 2, 2) # ... and then select the second\n",
    "file_joined = file1.join(file2, lsuffix='-1', rsuffix='-2')\n",
    "plt.xscale('log')\n",
    "plt.yscale('log')\n",
    "plt.scatter(file_joined['views-1'].values, \n",
    "            file_joined['views-2'].values) # build plot 2\n",
    "\n",
    "plt.title('')\n",
    "plt.xlabel()\n",
    "plt/ylabel()\n",
    "\n",
    "plt.show()\n",
    "plt.savefig('wikipedia.png')"
   ]
  },
  {
   "cell_type": "code",
   "execution_count": 47,
   "metadata": {},
   "outputs": [],
   "source": [
    "#"
   ]
  }
 ],
 "metadata": {
  "kernelspec": {
   "display_name": "Python 3",
   "language": "python",
   "name": "python3"
  },
  "language_info": {
   "codemirror_mode": {
    "name": "ipython",
    "version": 3
   },
   "file_extension": ".py",
   "mimetype": "text/x-python",
   "name": "python",
   "nbconvert_exporter": "python",
   "pygments_lexer": "ipython3",
   "version": "3.7.3"
  }
 },
 "nbformat": 4,
 "nbformat_minor": 2
}
