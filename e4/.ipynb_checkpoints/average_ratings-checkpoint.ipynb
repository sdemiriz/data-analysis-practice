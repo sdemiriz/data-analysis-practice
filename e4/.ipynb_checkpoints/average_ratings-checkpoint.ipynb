{
 "cells": [
  {
   "cell_type": "code",
   "execution_count": 1,
   "metadata": {},
   "outputs": [],
   "source": [
    "import difflib as dl\n",
    "import pandas as pd\n",
    "import numpy as np\n",
    "import sys"
   ]
  },
  {
   "cell_type": "code",
   "execution_count": 2,
   "metadata": {},
   "outputs": [],
   "source": [
    "movie_list_file = 'movie_list.txt'\n",
    "movie_ratings_file = 'movie_ratings.csv'"
   ]
  },
  {
   "cell_type": "code",
   "execution_count": 3,
   "metadata": {},
   "outputs": [],
   "source": [
    "f = open(movie_list_file)\n",
    "read = f.readlines()\n",
    "f.close()"
   ]
  },
  {
   "cell_type": "code",
   "execution_count": 4,
   "metadata": {},
   "outputs": [],
   "source": [
    "movie_list = pd.DataFrame(read, columns= ['movie'])\n",
    "movie_list = movie_list.replace(r'\\n', '', regex= True)\n",
    "#movie_list"
   ]
  },
  {
   "cell_type": "code",
   "execution_count": 5,
   "metadata": {},
   "outputs": [],
   "source": [
    "movie_ratings = pd.read_csv(movie_ratings_file)\n",
    "#movie_ratings"
   ]
  },
  {
   "cell_type": "code",
   "execution_count": 6,
   "metadata": {},
   "outputs": [],
   "source": [
    "# Idea from https://stackoverflow.com/questions/46083151/python-3-6-pandas-difflib-get-close-matches-to-filter-a-dataframe-with-user-inpu\n",
    "def get_close_ufunc(rating):\n",
    "    match = dl.get_close_matches(rating, movie_list['movie'])\n",
    "    if len(match) != 0:\n",
    "        return match[0]\n",
    "    return None"
   ]
  },
  {
   "cell_type": "code",
   "execution_count": 7,
   "metadata": {},
   "outputs": [],
   "source": [
    "movie_ratings['title'] = movie_ratings['title'].apply(get_close_ufunc)\n",
    "#movie_ratings"
   ]
  },
  {
   "cell_type": "code",
   "execution_count": 8,
   "metadata": {},
   "outputs": [],
   "source": [
    "agg_func = {'title': 'count', 'rating': 'sum'}\n",
    "agg_ratings = movie_ratings.groupby(movie_ratings['title']).aggregate(agg_func)\n",
    "agg_ratings['rating'] = agg_ratings['rating'] / agg_ratings['title']\n",
    "agg_ratings['rating'] = agg_ratings['rating'].round(2)\n",
    "#agg_ratings"
   ]
  },
  {
   "cell_type": "code",
   "execution_count": 9,
   "metadata": {},
   "outputs": [],
   "source": [
    "#agg_ratings['rating']\n",
    "agg_ratings['rating'].to_csv('test.csv', header= True)"
   ]
  },
  {
   "cell_type": "code",
   "execution_count": null,
   "metadata": {},
   "outputs": [],
   "source": []
  },
  {
   "cell_type": "code",
   "execution_count": null,
   "metadata": {},
   "outputs": [],
   "source": []
  }
 ],
 "metadata": {
  "kernelspec": {
   "display_name": "Python 3",
   "language": "python",
   "name": "python3"
  },
  "language_info": {
   "codemirror_mode": {
    "name": "ipython",
    "version": 3
   },
   "file_extension": ".py",
   "mimetype": "text/x-python",
   "name": "python",
   "nbconvert_exporter": "python",
   "pygments_lexer": "ipython3",
   "version": "3.7.3"
  }
 },
 "nbformat": 4,
 "nbformat_minor": 2
}
