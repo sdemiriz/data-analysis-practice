{
 "cells": [
  {
   "cell_type": "code",
   "execution_count": 1,
   "metadata": {},
   "outputs": [],
   "source": [
    "import matplotlib.pyplot as plt\n",
    "import pandas as pd\n",
    "import numpy as np\n",
    "import gzip\n",
    "import math\n",
    "import sys"
   ]
  },
  {
   "cell_type": "code",
   "execution_count": 2,
   "metadata": {},
   "outputs": [],
   "source": [
    "json_file = 'stations.json.gz'\n",
    "city_data_file = 'city_data.csv'\n",
    "output_file = 'output.svg'"
   ]
  },
  {
   "cell_type": "code",
   "execution_count": 3,
   "metadata": {},
   "outputs": [],
   "source": [
    "# Used previously in Exercise 3\n",
    "def degree2Rad(degree):\n",
    "    return (degree * math.pi/180)\n",
    "\n",
    "# Used previously in Exercise 3, modified\n",
    "# Idea from https://stackoverflow.com/questions/27928/calculate-distance-between-two-latitude-longitude-points-haversine-formula/21623206\n",
    "def haversine(lat1, lon1, lat2, lon2):\n",
    "    # Earth radius in meters\n",
    "    earthRadius = 6371000\n",
    "    \n",
    "    # Convert latitudes to radians\n",
    "    lat_diff = degree2Rad(lat2 - lat1)\n",
    "    lon_diff = degree2Rad(lon2 - lon1)\n",
    "    \n",
    "    # Apply calculation\n",
    "    a = math.sin(lat_diff/2)**2 + math.cos(degree2Rad(lat1)) * math.cos(degree2Rad(lat2)) * math.sin(lon_diff/2)**2\n",
    "    c = 2 * math.atan2(math.sqrt(a), math.sqrt(1 - a))\n",
    "    \n",
    "    return (earthRadius * c)"
   ]
  },
  {
   "cell_type": "code",
   "execution_count": 4,
   "metadata": {},
   "outputs": [],
   "source": [
    "# Return distances between a city and all stations\n",
    "def distance(city, stations):\n",
    "    return np.vectorize(haversine)(stations['latitude'], stations['longitude'], city['latitude'], city['longitude'])\n",
    "\n",
    "# Return the closest station to a city\n",
    "def best_tmax(city, stations):\n",
    "    distances = distance(city, stations)\n",
    "    avg_tmax = stations['avg_tmax']\n",
    "    return avg_tmax[np.argmin(distances)]"
   ]
  },
  {
   "cell_type": "code",
   "execution_count": 5,
   "metadata": {},
   "outputs": [],
   "source": [
    "# Import stations and cities\n",
    "cities = pd.read_csv(city_data_file)\n",
    "stations = pd.read_json(json_file, lines=True)"
   ]
  },
  {
   "cell_type": "code",
   "execution_count": 6,
   "metadata": {},
   "outputs": [],
   "source": [
    "# Convert avg_tmax to Celcius\n",
    "stations['avg_tmax'] = stations['avg_tmax']/10"
   ]
  },
  {
   "cell_type": "code",
   "execution_count": 7,
   "metadata": {},
   "outputs": [],
   "source": [
    "# Convert city areas to km^2\n",
    "cities['area'] = cities['area'] * 0.000001 #(10^(-6))\n",
    "# Filter out cities larger than 10000 km^2\n",
    "cities = cities[cities['area'] <= 10000]"
   ]
  },
  {
   "cell_type": "code",
   "execution_count": 8,
   "metadata": {},
   "outputs": [],
   "source": [
    "# Get best_tmax cities\n",
    "cities['best_tmax'] = cities.apply(best_tmax, stations=stations, axis=1)"
   ]
  },
  {
   "cell_type": "code",
   "execution_count": 9,
   "metadata": {},
   "outputs": [
    {
     "data": {
      "text/plain": [
       "[<matplotlib.lines.Line2D at 0x7eff5c086e80>]"
      ]
     },
     "execution_count": 9,
     "metadata": {},
     "output_type": "execute_result"
    },
    {
     "data": {
      "image/png": "[encoded data removed]",
      "text/plain": [
       "<Figure size 432x288 with 1 Axes>"
      ]
     },
     "metadata": {
      "needs_background": "light"
     },
     "output_type": "display_data"
    }
   ],
   "source": [
    "# Produce plot and labels\n",
    "plt.ylabel('Population Density (people/km\\u00b2)')\n",
    "plt.xlabel('Avg Max Temperature (\\u00b0C)')\n",
    "plt.title('Temperature vs Population Density')\n",
    "plt.plot(cities['best_tmax'], cities['population']/cities['area'], \"b.\")"
   ]
  },
  {
   "cell_type": "code",
   "execution_count": 10,
   "metadata": {},
   "outputs": [
    {
     "data": {
      "text/plain": [
       "<Figure size 432x288 with 0 Axes>"
      ]
     },
     "metadata": {},
     "output_type": "display_data"
    }
   ],
   "source": [
    "# Save plot as svg\n",
    "plt.savefig(output_file)"
   ]
  }
 ],
 "metadata": {
  "kernelspec": {
   "display_name": "Python 3",
   "language": "python",
   "name": "python3"
  },
  "language_info": {
   "codemirror_mode": {
    "name": "ipython",
    "version": 3
   },
   "file_extension": ".py",
   "mimetype": "text/x-python",
   "name": "python",
   "nbconvert_exporter": "python",
   "pygments_lexer": "ipython3",
   "version": "3.7.3"
  }
 },
 "nbformat": 4,
 "nbformat_minor": 2
}
