{
 "cells": [
  {
   "cell_type": "code",
   "execution_count": 1,
   "metadata": {},
   "outputs": [],
   "source": [
    "import matplotlib.pyplot as plt\n",
    "from scipy import stats\n",
    "import pandas as pd\n",
    "import numpy as np\n",
    "\n",
    "pd.options.mode.chained_assignment = None # hide some warnings"
   ]
  },
  {
   "cell_type": "code",
   "execution_count": 2,
   "metadata": {},
   "outputs": [],
   "source": [
    "# Read dog data, extract rating into new dataframe\n",
    "dog_data = pd.read_csv('dog_rates_tweets.csv', parse_dates=['created_at'])\n",
    "dog_data = dog_data[dog_data['text'].str.contains('\\d+\\/10')]"
   ]
  },
  {
   "cell_type": "code",
   "execution_count": 3,
   "metadata": {},
   "outputs": [],
   "source": [
    "# Extract exact rating and cast as float\n",
    "dog_data['rating'] = dog_data['text'].str.extract(pat= r'(\\d*?)\\/10')\n",
    "dog_data['rating'] = dog_data['rating'].astype(float)"
   ]
  },
  {
   "cell_type": "code",
   "execution_count": 4,
   "metadata": {},
   "outputs": [],
   "source": [
    "# Filter ratings that are less than or equal to 25\n",
    "dog_data = dog_data[dog_data['rating'] <= 25]\n",
    "#dog_data.dtypes"
   ]
  },
  {
   "cell_type": "code",
   "execution_count": 5,
   "metadata": {},
   "outputs": [],
   "source": [
    "# Show scatterplot of results so far\n",
    "#plt.plot(dog_data['created_at'], dog_data['rating'], '.')"
   ]
  },
  {
   "cell_type": "code",
   "execution_count": 6,
   "metadata": {},
   "outputs": [],
   "source": [
    "# Extract timestamp into new column\n",
    "dog_data['timestamp'] = dog_data['created_at'].apply(lambda date : date.timestamp())"
   ]
  },
  {
   "cell_type": "code",
   "execution_count": 7,
   "metadata": {},
   "outputs": [
    {
     "name": "stdout",
     "output_type": "stream",
     "text": [
      "Regression slope:  3.501637950146532e-08\n",
      "Regression intercept:  -40.254694225409395\n"
     ]
    }
   ],
   "source": [
    "# Set up linear regression, print relevant parameters\n",
    "reg = stats.linregress(dog_data['timestamp'], dog_data['rating'])\n",
    "print('Regression slope: ', reg.slope)\n",
    "print('Regression intercept: ', reg.intercept)"
   ]
  },
  {
   "cell_type": "code",
   "execution_count": 8,
   "metadata": {},
   "outputs": [
    {
     "data": {
      "text/plain": [
       "[<matplotlib.lines.Line2D at 0x7fab4c1f7b70>]"
      ]
     },
     "execution_count": 8,
     "metadata": {},
     "output_type": "execute_result"
    },
    {
     "data": {
      "image/png": "[encoded data removed]",
      "text/plain": [
       "<Figure size 432x288 with 1 Axes>"
      ]
     },
     "metadata": {
      "needs_background": "light"
     },
     "output_type": "display_data"
    }
   ],
   "source": [
    "# Set up plot\n",
    "plt.xlabel('Date')\n",
    "plt.ylabel('Ratings')\n",
    "plt.title('Inflation in dog ratings over time')\n",
    "plt.plot(dog_data['timestamp'], dog_data['rating'], '.')\n",
    "plt.plot(dog_data['timestamp'], reg.slope*dog_data['timestamp'] + reg.intercept, linewidth= 3)"
   ]
  },
  {
   "cell_type": "code",
   "execution_count": 11,
   "metadata": {},
   "outputs": [
    {
     "name": "stdout",
     "output_type": "stream",
     "text": [
      "Regression p-value:  1.6092573688246278e-104\n"
     ]
    },
    {
     "data": {
      "text/plain": [
       "(array([  3.,   0.,   9.,   5.,  21.,  58., 501., 912., 154.,   4.]),\n",
       " array([-11.84795675, -10.18676156,  -8.52556637,  -6.86437118,\n",
       "         -5.20317599,  -3.5419808 ,  -1.8807856 ,  -0.21959041,\n",
       "          1.44160478,   3.10279997,   4.76399516]),\n",
       " <a list of 10 Patch objects>)"
      ]
     },
     "execution_count": 11,
     "metadata": {},
     "output_type": "execute_result"
    },
    {
     "data": {
      "image/png": "[encoded data removed]",
      "text/plain": [
       "<Figure size 432x288 with 1 Axes>"
      ]
     },
     "metadata": {
      "needs_background": "light"
     },
     "output_type": "display_data"
    }
   ],
   "source": [
    "# Make histogram of residuals\n",
    "plt.title('Residual inflation in dog ratings')\n",
    "plt.hist(dog_data['rating'] - (reg.slope*dog_data['timestamp'] + reg.intercept))"
   ]
  },
  {
   "cell_type": "code",
   "execution_count": 12,
   "metadata": {},
   "outputs": [
    {
     "name": "stdout",
     "output_type": "stream",
     "text": [
      "Regression p-value:  1.6092573688246278e-104\n"
     ]
    }
   ],
   "source": [
    "# Regression p-value\n",
    "print('Regression p-value: ', reg.pvalue)"
   ]
  },
  {
   "cell_type": "code",
   "execution_count": null,
   "metadata": {},
   "outputs": [],
   "source": []
  }
 ],
 "metadata": {
  "kernelspec": {
   "display_name": "Python 3",
   "language": "python",
   "name": "python3"
  },
  "language_info": {
   "codemirror_mode": {
    "name": "ipython",
    "version": 3
   },
   "file_extension": ".py",
   "mimetype": "text/x-python",
   "name": "python",
   "nbconvert_exporter": "python",
   "pygments_lexer": "ipython3",
   "version": "3.7.3"
  }
 },
 "nbformat": 4,
 "nbformat_minor": 2
}
